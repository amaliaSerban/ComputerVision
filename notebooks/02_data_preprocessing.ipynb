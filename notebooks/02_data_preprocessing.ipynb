{
 "cells": [
  {
   "cell_type": "markdown",
   "id": "892595ebf589b9eb",
   "metadata": {},
   "source": [
    "# Load data"
   ]
  },
  {
   "cell_type": "code",
   "execution_count": 21,
   "id": "e23f07fa05c51777",
   "metadata": {
    "jupyter": {
     "is_executing": true
    }
   },
   "outputs": [
    {
     "name": "stdout",
     "output_type": "stream",
     "text": [
      "  label        x0        y0            z0        x1        y1        z1  \\\n",
      "0  open  0.208197  0.932596  6.621586e-07  0.276534  0.870955 -0.023450   \n",
      "1  open  0.207864  0.930138  6.584116e-07  0.276500  0.870342 -0.023726   \n",
      "2  open  0.207823  0.931254  6.625651e-07  0.276393  0.871789 -0.024244   \n",
      "3  open  0.209642  0.932560  6.785308e-07  0.279597  0.871208 -0.023636   \n",
      "4  open  0.210168  0.934793  6.746104e-07  0.280106  0.873031 -0.023108   \n",
      "\n",
      "         x2        y2        z2  ...       z17       x18       y18       z18  \\\n",
      "0  0.327159  0.789608 -0.033913  ... -0.028019  0.097139  0.641211 -0.041787   \n",
      "1  0.327573  0.789807 -0.034169  ... -0.027804  0.097646  0.640679 -0.041928   \n",
      "2  0.329070  0.791110 -0.034874  ... -0.027773  0.098512  0.641017 -0.042177   \n",
      "3  0.331479  0.791676 -0.033870  ... -0.025761  0.100507  0.641706 -0.039729   \n",
      "4  0.331285  0.791756 -0.032947  ... -0.025479  0.100386  0.640941 -0.039158   \n",
      "\n",
      "        x19       y19       z19       x20       y20       z20  \n",
      "0  0.077883  0.589082 -0.048392  0.063125  0.539383 -0.052462  \n",
      "1  0.078125  0.588944 -0.048755  0.063003  0.539485 -0.052893  \n",
      "2  0.078715  0.589146 -0.049276  0.063068  0.539836 -0.053565  \n",
      "3  0.080820  0.589729 -0.046508  0.065590  0.540951 -0.050417  \n",
      "4  0.081145  0.589167 -0.046024  0.066111  0.540516 -0.050220  \n",
      "\n",
      "[5 rows x 64 columns]\n"
     ]
    }
   ],
   "source": [
    "import pandas as pd\n",
    "import numpy as np\n",
    "\n",
    "df = pd.read_csv('../data/gestures.csv')\n",
    "print(df.head())\n",
    "\n",
    "\n",
    "#separate labels\n",
    "X = df.iloc[:, 1:].values  # all columns except the label\n",
    "y = df.iloc[:, 0].values   # label column"
   ]
  },
  {
   "cell_type": "markdown",
   "id": "e9be0fe498352bdf",
   "metadata": {},
   "source": [
    "# Normalize landmarks"
   ]
  },
  {
   "cell_type": "code",
   "execution_count": 9,
   "id": "04de2469",
   "metadata": {},
   "outputs": [],
   "source": [
    "def normalize_landmarks(landmarks):\n",
    "    landmarks = landmarks.reshape(-1, 3)\n",
    "    wrist = landmarks[0]                      # landmark 0 = wrist\n",
    "    landmarks -= wrist                        # translate\n",
    "    scale = np.linalg.norm(landmarks[9] - wrist)  # distance to middle finger base\n",
    "    landmarks /= scale\n",
    "    return landmarks.flatten()\n",
    "\n",
    "X_norm = np.array([normalize_landmarks(x) for x in X.reshape(len(X), 21, 3)])"
   ]
  },
  {
   "cell_type": "markdown",
   "id": "aedcbbb2",
   "metadata": {},
   "source": [
    "# Encode gestures"
   ]
  },
  {
   "cell_type": "code",
   "execution_count": 10,
   "id": "24ee1f1e",
   "metadata": {},
   "outputs": [
    {
     "name": "stdout",
     "output_type": "stream",
     "text": [
      "['fist' 'open' 'peace']\n"
     ]
    }
   ],
   "source": [
    "# !pip install tensorflow\n",
    "from sklearn.preprocessing import LabelEncoder\n",
    "from tensorflow.keras.utils import to_categorical\n",
    "\n",
    "\n",
    "le = LabelEncoder()\n",
    "y_encoded = le.fit_transform(y)\n",
    "y_onehot = to_categorical(y_encoded)\n",
    "\n",
    "print(le.classes_)  # ['fist', 'open', 'peace']"
   ]
  },
  {
   "cell_type": "markdown",
   "id": "23300ddb1e368af",
   "metadata": {},
   "source": []
  },
  {
   "cell_type": "markdown",
   "id": "7ce92dc6",
   "metadata": {},
   "source": [
    "# Split the data"
   ]
  },
  {
   "cell_type": "code",
   "execution_count": 11,
   "id": "10b8b99f",
   "metadata": {},
   "outputs": [
    {
     "name": "stdout",
     "output_type": "stream",
     "text": [
      "847 182 182\n"
     ]
    }
   ],
   "source": [
    "from sklearn.model_selection import train_test_split\n",
    "\n",
    "X_train, X_temp, y_train, y_temp = train_test_split(\n",
    "    X_norm, y_onehot, test_size=0.3, stratify=y_encoded, random_state=42\n",
    ")\n",
    "\n",
    "X_val, X_test, y_val, y_test = train_test_split(\n",
    "    X_temp, y_temp, test_size=0.5, stratify=y_temp.argmax(axis=1), random_state=42\n",
    ")\n",
    "\n",
    "print(len(X_train), len(X_val), len(X_test))"
   ]
  },
  {
   "cell_type": "code",
   "execution_count": 12,
   "id": "2d3bcd3a",
   "metadata": {},
   "outputs": [
    {
     "name": "stdout",
     "output_type": "stream",
     "text": [
      "Current working directory: c:\\AUsers\\Amalia\\Facultate\\An4\\Block1\\Ai\\Computer_Vision\\notebooks\n"
     ]
    }
   ],
   "source": [
    "import os\n",
    "print(\"Current working directory:\", os.getcwd())"
   ]
  },
  {
   "cell_type": "code",
   "execution_count": 18,
   "id": "18f5874d",
   "metadata": {},
   "outputs": [],
   "source": [
    "import numpy as np\n",
    "\n",
    "np.savez_compressed('../data/processed_gestures.npz',\n",
    "                    X_train=X_train, y_train=y_train,\n",
    "                    X_val=X_val, y_val=y_val,\n",
    "                    X_test=X_test, y_test=y_test)"
   ]
  }
 ],
 "metadata": {
  "kernelspec": {
   "display_name": "venv",
   "language": "python",
   "name": "python3"
  },
  "language_info": {
   "codemirror_mode": {
    "name": "ipython",
    "version": 3
   },
   "file_extension": ".py",
   "mimetype": "text/x-python",
   "name": "python",
   "nbconvert_exporter": "python",
   "pygments_lexer": "ipython3",
   "version": "3.12.7"
  }
 },
 "nbformat": 4,
 "nbformat_minor": 5
}
