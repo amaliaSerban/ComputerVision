{
 "cells": [
  {
   "cell_type": "markdown",
   "id": "892595ebf589b9eb",
   "metadata": {},
   "source": [
    "# Load data"
   ]
  },
  {
   "cell_type": "code",
   "execution_count": 21,
   "id": "e23f07fa05c51777",
   "metadata": {
    "jupyter": {
     "is_executing": true
    }
   },
   "outputs": [
    {
     "name": "stdout",
     "output_type": "stream",
     "text": [
      "  label        x0        y0            z0        x1        y1        z1  \\\n",
      "0  open  0.208197  0.932596  6.621586e-07  0.276534  0.870955 -0.023450   \n",
      "1  open  0.207864  0.930138  6.584116e-07  0.276500  0.870342 -0.023726   \n",
      "2  open  0.207823  0.931254  6.625651e-07  0.276393  0.871789 -0.024244   \n",
      "3  open  0.209642  0.932560  6.785308e-07  0.279597  0.871208 -0.023636   \n",
      "4  open  0.210168  0.934793  6.746104e-07  0.280106  0.873031 -0.023108   \n",
      "\n",
      "         x2        y2        z2  ...       z17       x18       y18       z18  \\\n",
      "0  0.327159  0.789608 -0.033913  ... -0.028019  0.097139  0.641211 -0.041787   \n",
      "1  0.327573  0.789807 -0.034169  ... -0.027804  0.097646  0.640679 -0.041928   \n",
      "2  0.329070  0.791110 -0.034874  ... -0.027773  0.098512  0.641017 -0.042177   \n",
      "3  0.331479  0.791676 -0.033870  ... -0.025761  0.100507  0.641706 -0.039729   \n",
      "4  0.331285  0.791756 -0.032947  ... -0.025479  0.100386  0.640941 -0.039158   \n",
      "\n",
      "        x19       y19       z19       x20       y20       z20  \n",
      "0  0.077883  0.589082 -0.048392  0.063125  0.539383 -0.052462  \n",
      "1  0.078125  0.588944 -0.048755  0.063003  0.539485 -0.052893  \n",
      "2  0.078715  0.589146 -0.049276  0.063068  0.539836 -0.053565  \n",
      "3  0.080820  0.589729 -0.046508  0.065590  0.540951 -0.050417  \n",
      "4  0.081145  0.589167 -0.046024  0.066111  0.540516 -0.050220  \n",
      "\n",
      "[5 rows x 64 columns]\n"
     ]
    }
   ],
   "source": [
    "import pandas as pd\n",
    "import numpy as np\n",
    "\n",
    "df = pd.read_csv('../data/gestures.csv')\n",
    "print(df.head())\n",
    "\n",
    "\n",
    "#separate labels\n",
    "X = df.iloc[:, 1:].values  # all columns except the label\n",
    "y = df.iloc[:, 0].values   # label column"
   ]
  },
  {
   "cell_type": "markdown",
   "id": "e9be0fe498352bdf",
   "metadata": {},
   "source": [
    "# Normalize landmarks"
   ]
  },
  {
   "cell_type": "code",
   "execution_count": 9,
   "id": "04de2469",
   "metadata": {},
   "outputs": [],
   "source": [
    "def normalize_landmarks(landmarks):\n",
    "    landmarks = landmarks.reshape(-1, 3)\n",
    "    wrist = landmarks[0]                      # landmark 0 = wrist\n",
    "    landmarks -= wrist                        # translate\n",
    "    scale = np.linalg.norm(landmarks[9] - wrist)  # distance to middle finger base\n",
    "    landmarks /= scale\n",
    "    return landmarks.flatten()\n",
    "\n",
    "X_norm = np.array([normalize_landmarks(x) for x in X.reshape(len(X), 21, 3)])"
   ]
  },
  {
   "cell_type": "markdown",
   "id": "aedcbbb2",
   "metadata": {},
   "source": [
    "# Encode gestures"
   ]
  },
  {
   "cell_type": "code",
   "execution_count": 10,
   "id": "24ee1f1e",
   "metadata": {},
   "outputs": [
    {
     "name": "stdout",
     "output_type": "stream",
     "text": [
      "['fist' 'open' 'peace']\n"
     ]
    }
   ],
   "source": [
    "# !pip install tensorflow\n",
    "from sklearn.preprocessing import LabelEncoder\n",
    "from tensorflow.keras.utils import to_categorical\n",
    "\n",
    "\n",
    "le = LabelEncoder()\n",
    "y_encoded = le.fit_transform(y)\n",
    "y_onehot = to_categorical(y_encoded)\n",
    "\n",
    "print(le.classes_)  # ['fist', 'open', 'peace']"
   ]
  },
  {
   "cell_type": "markdown",
   "id": "23300ddb1e368af",
   "metadata": {},
   "source": []
  },
  {
   "cell_type": "markdown",
   "id": "7ce92dc6",
   "metadata": {},
   "source": [
    "# Split the data"
   ]
  },
  {
   "cell_type": "code",
   "execution_count": 36,
   "id": "10b8b99f",
   "metadata": {},
   "outputs": [
    {
     "name": "stdout",
     "output_type": "stream",
     "text": [
      "811 182 182\n",
      "         0         1             2         3         4         5         6   \\\n",
      "0  0.290787  0.791624 -2.094106e-07  0.352339  0.761066 -0.012045  0.398006   \n",
      "1  0.254542  0.792727  6.757388e-07  0.311517  0.751135 -0.031101  0.338365   \n",
      "2  0.247557  0.703537  6.384707e-07  0.300246  0.672836 -0.029870  0.330625   \n",
      "3  0.265403  0.779610  7.684278e-07  0.325067  0.741802 -0.039425  0.361126   \n",
      "4  0.388550  0.824237  5.484774e-07  0.444733  0.806501 -0.030517  0.483807   \n",
      "\n",
      "         7         8         9   ...        53        54        55        56  \\\n",
      "0  0.689970 -0.020065  0.412968  ... -0.030703  0.290743  0.666043 -0.055490   \n",
      "1  0.658747 -0.041090  0.289144  ... -0.041848  0.217461  0.603025 -0.076732   \n",
      "2  0.611899 -0.043459  0.298424  ... -0.038825  0.193895  0.518447 -0.069352   \n",
      "3  0.667573 -0.057486  0.322893  ... -0.047857  0.209543  0.587137 -0.084292   \n",
      "4  0.749449 -0.042352  0.476118  ... -0.037529  0.362724  0.634042 -0.060930   \n",
      "\n",
      "         57        58        59        60        61        62  \n",
      "0  0.313360  0.721641 -0.056377  0.328346  0.764796 -0.048805  \n",
      "1  0.238137  0.640230 -0.079832  0.242223  0.666544 -0.072344  \n",
      "2  0.215459  0.556855 -0.067949  0.231147  0.589784 -0.057870  \n",
      "3  0.236402  0.631096 -0.083964  0.252337  0.664178 -0.072967  \n",
      "4  0.380643  0.667756 -0.063885  0.392895  0.697347 -0.062733  \n",
      "\n",
      "[5 rows x 63 columns]\n"
     ]
    }
   ],
   "source": [
    "from sklearn.model_selection import train_test_split\n",
    "\n",
    "X_train, X_test, y_train, y_test = train_test_split(X, y, test_size = 0.33, random_state = 42)\n",
    "X_val, X_test, y_val, y_test = train_test_split(\n",
    "    X_temp, y_temp, test_size=0.5, random_state=42, stratify=np.argmax(y_temp, axis=1)\n",
    ")\n",
    "\n",
    "print(len(X_train), len(X_val), len(X_test))\n",
    "\n",
    "print(pd.DataFrame(X_train).head())"
   ]
  },
  {
   "cell_type": "code",
   "execution_count": 12,
   "id": "2d3bcd3a",
   "metadata": {},
   "outputs": [
    {
     "name": "stdout",
     "output_type": "stream",
     "text": [
      "Current working directory: c:\\AUsers\\Amalia\\Facultate\\An4\\Block1\\Ai\\Computer_Vision\\notebooks\n"
     ]
    }
   ],
   "source": [
    "import os\n",
    "print(\"Current working directory:\", os.getcwd())"
   ]
  },
  {
   "cell_type": "code",
   "execution_count": 18,
   "id": "18f5874d",
   "metadata": {},
   "outputs": [],
   "source": [
    "import numpy as np\n",
    "\n",
    "np.savez_compressed('../data/processed_gestures.npz',\n",
    "                    X_train=X_train, y_train=y_train,\n",
    "                    X_val=X_val, y_val=y_val,\n",
    "                    X_test=X_test, y_test=y_test)"
   ]
  }
 ],
 "metadata": {
  "kernelspec": {
   "display_name": "venv",
   "language": "python",
   "name": "python3"
  },
  "language_info": {
   "codemirror_mode": {
    "name": "ipython",
    "version": 3
   },
   "file_extension": ".py",
   "mimetype": "text/x-python",
   "name": "python",
   "nbconvert_exporter": "python",
   "pygments_lexer": "ipython3",
   "version": "3.12.7"
  }
 },
 "nbformat": 4,
 "nbformat_minor": 5
}
