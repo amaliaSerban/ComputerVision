{
 "cells": [
  {
   "cell_type": "markdown",
   "id": "6a455570a77fda47",
   "metadata": {},
   "source": [
    "Imports and setup"
   ]
  },
  {
   "cell_type": "code",
   "execution_count": null,
   "id": "initial_id",
   "metadata": {},
   "outputs": [],
   "source": [
    "# import cv2\n",
    "# import mediapipe as mp\n",
    "# import csv\n",
    "# import os"
   ]
  },
  {
   "cell_type": "markdown",
   "id": "94d612d0513fcfbb",
   "metadata": {},
   "source": [
    "Create Data Folder & CSV"
   ]
  },
  {
   "cell_type": "code",
   "execution_count": 2,
   "id": "7c92c2287faf4264",
   "metadata": {},
   "outputs": [],
   "source": [
    "DATA_PATH = \"../data\"\n",
    "os.makedirs(DATA_PATH, exist_ok=True)\n",
    "CSV_FILE = os.path.join(DATA_PATH, \"gestures.csv\")\n",
    "\n",
    "# If file doesn't exist, create header\n",
    "if not os.path.isfile(CSV_FILE):\n",
    "    with open(CSV_FILE, \"w\", newline=\"\") as f:\n",
    "        writer = csv.writer(f)\n",
    "        header = [\"label\"] + [f\"{axis}{i}\" for i in range(21) for axis in [\"x\",\"y\",\"z\"]]\n",
    "        writer.writerow(header)"
   ]
  },
  {
   "cell_type": "markdown",
   "id": "afec793b8e6d889f",
   "metadata": {},
   "source": [
    "Define Gestures label"
   ]
  },
  {
   "cell_type": "code",
   "execution_count": 3,
   "id": "224a69e64a5f783a",
   "metadata": {},
   "outputs": [],
   "source": [
    "GESTURES = {\n",
    "    \"1\": \"fist\",\n",
    "    \"2\": \"open\",\n",
    "    \"3\": \"peace\",\n",
    "}"
   ]
  },
  {
   "cell_type": "markdown",
   "id": "243f11158ac9cd86",
   "metadata": {},
   "source": [
    "Hand Landmark Extraction"
   ]
  },
  {
   "cell_type": "code",
   "execution_count": null,
   "id": "c8f9d007f504f733",
   "metadata": {},
   "outputs": [],
   "source": [
    "mp_hands = mp.solutions.hands\n",
    "mp_drawing = mp.solutions.drawing_utils\n",
    "\n",
    "cap = cv2.VideoCapture(0)\n",
    "\n",
    "with mp_hands.Hands(max_num_hands=1,\n",
    "                    min_detection_confidence=0.7,\n",
    "                    min_tracking_confidence=0.7) as hands:\n",
    "\n",
    "    while True:\n",
    "        ret, frame = cap.read()\n",
    "        if not ret:\n",
    "            break\n",
    "\n",
    "        frame = cv2.flip(frame, 1)\n",
    "        rgb = cv2.cvtColor(frame, cv2.COLOR_BGR2RGB)\n",
    "        result = hands.process(rgb)\n",
    "\n",
    "        if result.multi_hand_landmarks:\n",
    "            for landmarks in result.multi_hand_landmarks:\n",
    "                mp_drawing.draw_landmarks(frame, landmarks, mp_hands.HAND_CONNECTIONS)\n",
    "\n",
    "        cv2.imshow(\"Hand Tracking\", frame)\n",
    "\n",
    "        # Press 'q' to quit\n",
    "        if cv2.waitKey(1) & 0xFF == ord('q'):\n",
    "            break\n",
    "\n",
    "# Release camera and close windows\n",
    "cap.release()\n",
    "cv2.destroyAllWindows()"
   ]
  },
  {
   "cell_type": "markdown",
   "id": "a219849d",
   "metadata": {},
   "source": [
    "Capture and save data"
   ]
  },
  {
   "cell_type": "code",
   "execution_count": null,
   "id": "3a8e88e5",
   "metadata": {},
   "outputs": [],
   "source": [
    "coords = [[lm.x, lm.y, lm.z] for lm in landmarks.landmark]\n",
    "flat_coords = sum(coords, [])  # flatten list\n",
    "\n",
    "with open(CSV_FILE, \"a\", newline=\"\") as f:\n",
    "    writer = csv.writer(f)\n",
    "    writer.writerow([current_label] + flat_coords)"
   ]
  }
 ],
 "metadata": {
  "kernelspec": {
   "display_name": "venv",
   "language": "python",
   "name": "python3"
  },
  "language_info": {
   "codemirror_mode": {
    "name": "ipython",
    "version": 3
   },
   "file_extension": ".py",
   "mimetype": "text/x-python",
   "name": "python",
   "nbconvert_exporter": "python",
   "pygments_lexer": "ipython3",
   "version": "3.12.7"
  }
 },
 "nbformat": 4,
 "nbformat_minor": 5
}
