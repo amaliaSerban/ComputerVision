{
 "cells": [
  {
   "cell_type": "markdown",
   "id": "6a455570a77fda47",
   "metadata": {},
   "source": [
    "# Imports and setup"
   ]
  },
  {
   "cell_type": "code",
   "execution_count": 2,
   "id": "initial_id",
   "metadata": {},
   "outputs": [],
   "source": [
    "import cv2\n",
    "import mediapipe as mp\n",
    "import csv\n",
    "import os\n",
    "\n",
    "\n",
    "import pandas as pd"
   ]
  },
  {
   "cell_type": "markdown",
   "id": "94d612d0513fcfbb",
   "metadata": {},
   "source": [
    "# Create Data Folder & CSV"
   ]
  },
  {
   "cell_type": "code",
   "execution_count": 3,
   "id": "7c92c2287faf4264",
   "metadata": {},
   "outputs": [],
   "source": [
    "DATA_PATH = \"../data\"\n",
    "os.makedirs(DATA_PATH, exist_ok=True)\n",
    "CSV_FILE = os.path.join(DATA_PATH, \"gestures.csv\")\n",
    "\n",
    "# If file doesn't exist, create header\n",
    "if not os.path.isfile(CSV_FILE):\n",
    "    with open(CSV_FILE, \"w\", newline=\"\") as f:\n",
    "        writer = csv.writer(f)\n",
    "        header = [\"label\"] + [f\"{axis}{i}\" for i in range(21) for axis in [\"x\",\"y\",\"z\"]]\n",
    "        writer.writerow(header)"
   ]
  },
  {
   "cell_type": "markdown",
   "id": "afec793b8e6d889f",
   "metadata": {},
   "source": [
    "# Define Gestures label"
   ]
  },
  {
   "cell_type": "code",
   "execution_count": 4,
   "id": "224a69e64a5f783a",
   "metadata": {},
   "outputs": [],
   "source": [
    "GESTURES = {\n",
    "    \"1\": \"fist\",\n",
    "    \"2\": \"open\",\n",
    "    \"3\": \"peace\",\n",
    "}"
   ]
  },
  {
   "cell_type": "markdown",
   "id": "243f11158ac9cd86",
   "metadata": {},
   "source": [
    "# Hand Landmark Extraction"
   ]
  },
  {
   "cell_type": "code",
   "execution_count": 5,
   "id": "c8f9d007f504f733",
   "metadata": {},
   "outputs": [
    {
     "name": "stderr",
     "output_type": "stream",
     "text": [
      "c:\\AUsers\\Amalia\\Facultate\\An4\\Block1\\Ai\\Computer Vision\\venv\\Lib\\site-packages\\google\\protobuf\\symbol_database.py:55: UserWarning: SymbolDatabase.GetPrototype() is deprecated. Please use message_factory.GetMessageClass() instead. SymbolDatabase.GetPrototype() will be removed soon.\n",
      "  warnings.warn('SymbolDatabase.GetPrototype() is deprecated. Please '\n"
     ]
    },
    {
     "name": "stdout",
     "output_type": "stream",
     "text": [
      "Recording gesture: open\n",
      "Recording gesture: open\n",
      "Recording gesture: open\n",
      "Recording gesture: fist\n",
      "Recording gesture: fist\n",
      "Recording gesture: fist\n",
      "Recording gesture: fist\n",
      "Recording gesture: fist\n",
      "Recording gesture: peace\n",
      "Recording gesture: peace\n",
      "Recording gesture: peace\n",
      "Recording gesture: peace\n",
      "Recording gesture: peace\n"
     ]
    }
   ],
   "source": [
    "width,height=1280,720\n",
    "\n",
    "mp_hands = mp.solutions.hands\n",
    "mp_drawing = mp.solutions.drawing_utils\n",
    "\n",
    "cap = cv2.VideoCapture(0)\n",
    "cap.set(3,height)\n",
    "cap.set(4,width)\n",
    "\n",
    "current_label = None\n",
    "\n",
    "with mp_hands.Hands(max_num_hands=1,\n",
    "                    min_detection_confidence=0.7,\n",
    "                    min_tracking_confidence=0.7) as hands:\n",
    "\n",
    "    while True:\n",
    "        ret, frame = cap.read()\n",
    "        if not ret:\n",
    "            break\n",
    "\n",
    "        frame = cv2.flip(frame, 1)\n",
    "        # Converts the frame from BGR (OpenCV default) to RGB (MediaPipe expects RGB).\n",
    "        rgb = cv2.cvtColor(frame, cv2.COLOR_BGR2RGB)\n",
    "        result = hands.process(rgb)\n",
    "\n",
    "        if result.multi_hand_landmarks:\n",
    "            for landmarks in result.multi_hand_landmarks:\n",
    "                mp_drawing.draw_landmarks(frame, landmarks, mp_hands.HAND_CONNECTIONS)\n",
    "\n",
    "                if current_label:\n",
    "                    coords = [[lm.x, lm.y, lm.z] for lm in landmarks.landmark]\n",
    "                    flat_coords = sum(coords, [])\n",
    "                    with open(CSV_FILE, \"a\", newline=\"\") as f:\n",
    "                        writer = csv.writer(f)\n",
    "                        writer.writerow([current_label] + flat_coords)\n",
    "\n",
    "        # Show the frame\n",
    "        cv2.imshow(\"Hand Gesture Data Collector\", frame)\n",
    "\n",
    "        # Handle key input\n",
    "        key = cv2.waitKey(1) & 0xFF\n",
    "        if key == 27:  # ESC to quit\n",
    "            break\n",
    "        elif chr(key) in GESTURES:\n",
    "            current_label = GESTURES[chr(key)]\n",
    "            print(\"Recording gesture:\", current_label)\n",
    "\n",
    "            \n",
    "# Release camera and close windows\n",
    "cap.release()\n",
    "cv2.destroyAllWindows()"
   ]
  },
  {
   "cell_type": "markdown",
   "id": "d943d59c",
   "metadata": {},
   "source": [
    "# Data Preprocessing"
   ]
  },
  {
   "cell_type": "code",
   "execution_count": 6,
   "id": "89fd302e",
   "metadata": {},
   "outputs": [],
   "source": [
    "import pandas as pd\n",
    "import matplotlib.pyplot as plt"
   ]
  },
  {
   "cell_type": "code",
   "execution_count": 7,
   "id": "327b75be",
   "metadata": {},
   "outputs": [],
   "source": [
    "df = pd.read_csv(r\"C:\\AUsers\\Amalia\\Facultate\\An4\\Block1\\Ai\\Computer Vision\\data\\gestures.csv\")\n",
    "\n",
    "# Remove exact duplicate rows\n",
    "df_unique = df.drop_duplicates()"
   ]
  },
  {
   "cell_type": "code",
   "execution_count": 8,
   "id": "539b4915",
   "metadata": {},
   "outputs": [
    {
     "data": {
      "image/png": "[encoded data removed]",
      "text/plain": [
       "<Figure size 800x500 with 1 Axes>"
      ]
     },
     "metadata": {},
     "output_type": "display_data"
    }
   ],
   "source": [
    "# Count samples per gesture\n",
    "gesture_counts = df_unique.iloc[:, 0].value_counts()\n",
    "\n",
    "# Bar chart\n",
    "plt.figure(figsize=(8, 5))\n",
    "gesture_counts.plot(kind='bar', color='skyblue')\n",
    "plt.title(\"Number of Samples per Gesture\")\n",
    "plt.xlabel(\"Gesture Label\")\n",
    "plt.ylabel(\"Sample Count\")\n",
    "plt.grid(True)\n",
    "plt.tight_layout()\n",
    "plt.show()"
   ]
  }
 ],
 "metadata": {
  "kernelspec": {
   "display_name": "venv",
   "language": "python",
   "name": "python3"
  },
  "language_info": {
   "codemirror_mode": {
    "name": "ipython",
    "version": 3
   },
   "file_extension": ".py",
   "mimetype": "text/x-python",
   "name": "python",
   "nbconvert_exporter": "python",
   "pygments_lexer": "ipython3",
   "version": "3.12.7"
  }
 },
 "nbformat": 4,
 "nbformat_minor": 5
}
