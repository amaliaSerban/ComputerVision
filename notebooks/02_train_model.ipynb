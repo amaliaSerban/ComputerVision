{
 "cells": [
  {
   "cell_type": "markdown",
   "id": "892595ebf589b9eb",
   "metadata": {},
   "source": [
    "Imports and setup\n"
   ]
  },
  {
   "cell_type": "code",
   "execution_count": null,
   "id": "e23f07fa05c51777",
   "metadata": {
    "jupyter": {
     "is_executing": true
    }
   },
   "outputs": [],
   "source": [
    "# import cv2\n",
    "# import mediapipe as mp\n",
    "import csv\n",
    "import os"
   ]
  },
  {
   "cell_type": "markdown",
   "id": "e9be0fe498352bdf",
   "metadata": {},
   "source": []
  },
  {
   "cell_type": "code",
   "execution_count": null,
   "id": "04de2469",
   "metadata": {},
   "outputs": [],
   "source": [
    "import pandas as pd\n",
    "import numpy as np\n",
    "from sklearn.neighbors import KNeighborsClassifier\n",
    "from sklearn.preprocessing import StandardScaler\n",
    "from sklearn.metrics import classification_report, confusion_matrix\n",
    "import joblib"
   ]
  },
  {
   "cell_type": "code",
   "execution_count": null,
   "id": "24ee1f1e",
   "metadata": {},
   "outputs": [],
   "source": [
    "data = np.load('../data/processed_gestures.npz')\n",
    "X_train, y_train = data['X_train'], data['y_train']"
   ]
  },
  {
   "cell_type": "markdown",
   "id": "23300ddb1e368af",
   "metadata": {},
   "source": []
  }
 ],
 "metadata": {
  "kernelspec": {
   "display_name": "Python 3",
   "language": "python",
   "name": "python3"
  },
  "language_info": {
   "codemirror_mode": {
    "name": "ipython",
    "version": 2
   },
   "file_extension": ".py",
   "mimetype": "text/x-python",
   "name": "python",
   "nbconvert_exporter": "python",
   "pygments_lexer": "ipython2",
   "version": "2.7.6"
  }
 },
 "nbformat": 4,
 "nbformat_minor": 5
}
